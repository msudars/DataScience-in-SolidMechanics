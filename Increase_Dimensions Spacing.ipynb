{
 "cells": [
  {
   "cell_type": "markdown",
   "metadata": {},
   "source": [
    "# Principal Component Analysis\n",
    "Viewing it in terms, at what angle and spacing do we get max stress and have the longest crack length!"
   ]
  },
  {
   "cell_type": "markdown",
   "metadata": {},
   "source": [
    "## Importing Libraries"
   ]
  },
  {
   "cell_type": "code",
   "execution_count": 2,
   "metadata": {},
   "outputs": [],
   "source": [
    "import pandas as pd\n",
    "import numpy as np\n",
    "import matplotlib.pyplot as plt\n",
    "from sklearn.decomposition import PCA"
   ]
  },
  {
   "cell_type": "code",
   "execution_count": 3,
   "metadata": {},
   "outputs": [],
   "source": [
    "from sklearn.preprocessing import StandardScaler"
   ]
  },
  {
   "cell_type": "markdown",
   "metadata": {},
   "source": [
    "## Reading data"
   ]
  },
  {
   "cell_type": "code",
   "execution_count": 4,
   "metadata": {},
   "outputs": [
    {
     "data": {
      "text/html": [
       "<div>\n",
       "<style scoped>\n",
       "    .dataframe tbody tr th:only-of-type {\n",
       "        vertical-align: middle;\n",
       "    }\n",
       "\n",
       "    .dataframe tbody tr th {\n",
       "        vertical-align: top;\n",
       "    }\n",
       "\n",
       "    .dataframe thead th {\n",
       "        text-align: right;\n",
       "    }\n",
       "</style>\n",
       "<table border=\"1\" class=\"dataframe\">\n",
       "  <thead>\n",
       "    <tr style=\"text-align: right;\">\n",
       "      <th></th>\n",
       "      <th>Max stress</th>\n",
       "      <th>Crack Length</th>\n",
       "      <th>Spacing</th>\n",
       "    </tr>\n",
       "  </thead>\n",
       "  <tbody>\n",
       "    <tr>\n",
       "      <th>0</th>\n",
       "      <td>14.359</td>\n",
       "      <td>2.0000</td>\n",
       "      <td>2.5-5</td>\n",
       "    </tr>\n",
       "    <tr>\n",
       "      <th>1</th>\n",
       "      <td>24.553</td>\n",
       "      <td>2.0000</td>\n",
       "      <td>2.5-5</td>\n",
       "    </tr>\n",
       "    <tr>\n",
       "      <th>2</th>\n",
       "      <td>30.000</td>\n",
       "      <td>2.4000</td>\n",
       "      <td>2.5-5</td>\n",
       "    </tr>\n",
       "    <tr>\n",
       "      <th>3</th>\n",
       "      <td>10.190</td>\n",
       "      <td>2.0000</td>\n",
       "      <td>2.5-5</td>\n",
       "    </tr>\n",
       "    <tr>\n",
       "      <th>4</th>\n",
       "      <td>17.280</td>\n",
       "      <td>2.1000</td>\n",
       "      <td>2.5-5</td>\n",
       "    </tr>\n",
       "    <tr>\n",
       "      <th>...</th>\n",
       "      <td>...</td>\n",
       "      <td>...</td>\n",
       "      <td>...</td>\n",
       "    </tr>\n",
       "    <tr>\n",
       "      <th>85</th>\n",
       "      <td>100.650</td>\n",
       "      <td>0.1344</td>\n",
       "      <td>2.5-5</td>\n",
       "    </tr>\n",
       "    <tr>\n",
       "      <th>86</th>\n",
       "      <td>79.463</td>\n",
       "      <td>0.0925</td>\n",
       "      <td>5-7.5</td>\n",
       "    </tr>\n",
       "    <tr>\n",
       "      <th>87</th>\n",
       "      <td>64.935</td>\n",
       "      <td>0.8353</td>\n",
       "      <td>2.5-5</td>\n",
       "    </tr>\n",
       "    <tr>\n",
       "      <th>88</th>\n",
       "      <td>106.540</td>\n",
       "      <td>0.1218</td>\n",
       "      <td>2.5-5</td>\n",
       "    </tr>\n",
       "    <tr>\n",
       "      <th>89</th>\n",
       "      <td>79.465</td>\n",
       "      <td>0.0925</td>\n",
       "      <td>5-7.5</td>\n",
       "    </tr>\n",
       "  </tbody>\n",
       "</table>\n",
       "<p>90 rows × 3 columns</p>\n",
       "</div>"
      ],
      "text/plain": [
       "    Max stress  Crack Length Spacing\n",
       "0       14.359        2.0000   2.5-5\n",
       "1       24.553        2.0000   2.5-5\n",
       "2       30.000        2.4000   2.5-5\n",
       "3       10.190        2.0000   2.5-5\n",
       "4       17.280        2.1000   2.5-5\n",
       "..         ...           ...     ...\n",
       "85     100.650        0.1344   2.5-5\n",
       "86      79.463        0.0925   5-7.5\n",
       "87      64.935        0.8353   2.5-5\n",
       "88     106.540        0.1218   2.5-5\n",
       "89      79.465        0.0925   5-7.5\n",
       "\n",
       "[90 rows x 3 columns]"
      ]
     },
     "execution_count": 4,
     "metadata": {},
     "output_type": "execute_result"
    }
   ],
   "source": [
    "from pandas import ExcelWriter\n",
    "from pandas import ExcelFile\n",
    "\n",
    "#Atul's Data: \n",
    "df= pd.read_excel('AtulData _Spacing.xlsx')\n",
    "df"
   ]
  },
  {
   "cell_type": "markdown",
   "metadata": {},
   "source": [
    "### Setting x array as independent features; Y- array as class column values\n",
    "X data: stored as 90x2 columns -> 2D vector "
   ]
  },
  {
   "cell_type": "code",
   "execution_count": 5,
   "metadata": {},
   "outputs": [
    {
     "data": {
      "text/plain": [
       "array([[1.435900e+01, 2.000000e+00],\n",
       "       [2.455300e+01, 2.000000e+00],\n",
       "       [3.000000e+01, 2.400000e+00],\n",
       "       [1.019000e+01, 2.000000e+00],\n",
       "       [1.728000e+01, 2.100000e+00],\n",
       "       [2.371000e+01, 2.400000e+00],\n",
       "       [1.085000e+01, 2.100000e+00],\n",
       "       [1.671000e+01, 2.200000e+00],\n",
       "       [2.219000e+01, 2.400000e+00],\n",
       "       [1.222530e+01, 2.279486e+01],\n",
       "       [8.107930e+00, 2.262797e+01],\n",
       "       [1.102330e+01, 2.311946e+01],\n",
       "       [1.148600e+01, 2.279489e+01],\n",
       "       [8.637480e+00, 2.262803e+01],\n",
       "       [1.098500e+01, 2.311938e+01],\n",
       "       [1.333100e+01, 2.279454e+01],\n",
       "       [8.686400e+00, 2.262773e+01],\n",
       "       [1.270950e+01, 2.311891e+01],\n",
       "       [1.073300e+01, 8.400000e-01],\n",
       "       [1.202900e+01, 8.400000e-01],\n",
       "       [1.216900e+01, 7.080000e-01],\n",
       "       [1.310250e+01, 6.500000e-01],\n",
       "       [1.281920e+01, 5.260000e-01],\n",
       "       [1.258690e+01, 5.260000e-01],\n",
       "       [9.002540e+00, 7.234000e-01],\n",
       "       [1.176990e+01, 5.625000e-01],\n",
       "       [1.132760e+01, 4.462000e-01],\n",
       "       [1.530540e+01, 2.757680e+01],\n",
       "       [1.345760e+01, 2.746720e+01],\n",
       "       [1.295580e+01, 2.767640e+01],\n",
       "       [1.525270e+01, 2.757540e+01],\n",
       "       [1.458880e+01, 2.745780e+01],\n",
       "       [1.354810e+01, 2.767060e+01],\n",
       "       [1.511700e+01, 2.757390e+01],\n",
       "       [1.395880e+01, 2.746020e+01],\n",
       "       [2.112770e+01, 2.757660e+01],\n",
       "       [6.054900e+01, 3.180000e+01],\n",
       "       [6.390000e+00, 2.730000e+01],\n",
       "       [6.990000e+00, 2.730000e+01],\n",
       "       [2.860000e+02, 2.890000e+01],\n",
       "       [2.020000e+02, 3.160000e+01],\n",
       "       [5.930000e+02, 4.736000e+01],\n",
       "       [1.463000e+01, 2.760000e+01],\n",
       "       [8.600000e+01, 2.760000e+01],\n",
       "       [1.460000e+01, 2.750000e+01],\n",
       "       [4.372850e+02, 1.070000e+01],\n",
       "       [5.399790e+02, 1.070000e+01],\n",
       "       [4.244540e+02, 1.071000e+01],\n",
       "       [4.599960e+02, 7.493000e+00],\n",
       "       [5.106340e+02, 7.480000e+00],\n",
       "       [4.790340e+02, 7.489000e+00],\n",
       "       [5.010740e+01, 1.109000e+01],\n",
       "       [5.002380e+01, 1.112900e+01],\n",
       "       [5.000570e+01, 1.105000e+01],\n",
       "       [8.583000e+01, 3.500000e-01],\n",
       "       [8.940000e+01, 3.600000e-01],\n",
       "       [9.082000e+01, 4.000000e-01],\n",
       "       [1.208000e+02, 3.400000e-01],\n",
       "       [1.606000e+02, 3.500000e-01],\n",
       "       [1.808000e+02, 3.600000e-01],\n",
       "       [1.703000e+02, 3.600000e-01],\n",
       "       [2.008000e+02, 4.000000e-01],\n",
       "       [2.607000e+02, 4.200000e-01],\n",
       "       [7.010000e+01, 1.950000e+00],\n",
       "       [8.720000e+01, 1.410000e+00],\n",
       "       [7.510000e+01, 1.450000e+00],\n",
       "       [7.280000e+01, 1.700000e+00],\n",
       "       [1.130000e+02, 1.110000e+00],\n",
       "       [7.340000e+01, 1.290000e+00],\n",
       "       [7.080000e+01, 1.590000e+00],\n",
       "       [6.850000e+01, 1.710000e+00],\n",
       "       [7.710000e+01, 1.950000e+00],\n",
       "       [7.286000e+01, 1.269000e+01],\n",
       "       [1.052000e+02, 8.945000e+00],\n",
       "       [1.791000e+02, 6.160000e+00],\n",
       "       [9.697000e+01, 1.263000e+01],\n",
       "       [1.053000e+02, 8.940000e+00],\n",
       "       [1.598000e+02, 6.290000e+00],\n",
       "       [6.861000e+01, 1.267000e+01],\n",
       "       [9.046000e+01, 8.970000e+00],\n",
       "       [1.715000e+02, 6.081000e+00],\n",
       "       [8.485800e+01, 1.486000e-01],\n",
       "       [9.893900e+01, 7.030000e-02],\n",
       "       [1.220300e+02, 1.030500e+00],\n",
       "       [1.065400e+02, 8.353000e-01],\n",
       "       [1.006500e+02, 1.344000e-01],\n",
       "       [7.946300e+01, 9.250000e-02],\n",
       "       [6.493500e+01, 8.353000e-01],\n",
       "       [1.065400e+02, 1.218000e-01],\n",
       "       [7.946500e+01, 9.250000e-02]])"
      ]
     },
     "execution_count": 5,
     "metadata": {},
     "output_type": "execute_result"
    }
   ],
   "source": [
    "#X contains max stress and crack length \n",
    "X= df. iloc[:, 0:2].values \n",
    "X"
   ]
  },
  {
   "cell_type": "code",
   "execution_count": 6,
   "metadata": {},
   "outputs": [
    {
     "data": {
      "text/plain": [
       "array(['2.5-5', '2.5-5', '2.5-5', '2.5-5', '2.5-5', '2.5-5', '5-7.5',\n",
       "       '5-7.5', '5-7.5', '5-7.5', '5-7.5', '5-7.5', '5-7.5', '5-7.5',\n",
       "       '5-7.5', '2.5-5', '2.5-5', '2.5-5', '5-7.5', '7.5-10', '10-12.5',\n",
       "       '5-7.5', '7.5-10', '10-12.5', '2.5-5', '7.5-10', '10-12.5',\n",
       "       '5-7.5', '5-7.5', '5-7.5', '7.5-10', '7.5-10', '7.5-10', '10-12.5',\n",
       "       '10-12.5', '10-12.5', '5-7.5', '7.5-10', '2.5-5', '5-7.5',\n",
       "       '7.5-10', '2.5-5', '5-7.5', '7.5-10', '5-7.5', '10-12.5', '5-7.5',\n",
       "       '12.5-15', '12.5-15', '5-7.5', '10-12.5', '10-12.5', '12.5-15',\n",
       "       '5-7.5', '2.5-5', '2.5-5', '2.5-5', '2.5-5', '2.5-5', '2.5-5',\n",
       "       '5-7.5', '5-7.5', '5-7.5', '2.5-5', '2.5-5', '5-7.5', '2.5-5',\n",
       "       '2.5-5', '5-7.5', '2.5-5', '2.5-5', '5-7.5', '5-7.5', '5-7.5',\n",
       "       '5-7.5', '5-7.5', '5-7.5', '5-7.5', '7.5-10', '7.5-10', '7.5-10',\n",
       "       '2.5-5', '2.5-5', '5-7.5', '2.5-5', '2.5-5', '5-7.5', '2.5-5',\n",
       "       '2.5-5', '5-7.5'], dtype=object)"
      ]
     },
     "execution_count": 6,
     "metadata": {},
     "output_type": "execute_result"
    }
   ],
   "source": [
    "# Y contains angle\n",
    "Y= df.iloc[:,2].values\n",
    "Y\n"
   ]
  },
  {
   "cell_type": "code",
   "execution_count": 7,
   "metadata": {},
   "outputs": [],
   "source": [
    "#Z contains spacing \n",
    "#Z= df. iloc[:,3].values\n",
    "#Z"
   ]
  },
  {
   "cell_type": "markdown",
   "metadata": {},
   "source": [
    "## Dimensionality Reduction and PCA"
   ]
  },
  {
   "cell_type": "markdown",
   "metadata": {},
   "source": [
    "### Standardization\n",
    "Transformation of data onto the unit scale: Mean=0, Variance=1 X_"
   ]
  },
  {
   "cell_type": "code",
   "execution_count": 8,
   "metadata": {},
   "outputs": [],
   "source": [
    "X_Std = StandardScaler().fit_transform(X)"
   ]
  },
  {
   "cell_type": "code",
   "execution_count": 9,
   "metadata": {},
   "outputs": [
    {
     "data": {
      "text/plain": [
       "array([[-6.35426136e-01, -7.33201589e-01],\n",
       "       [-5.57158534e-01, -7.33201589e-01],\n",
       "       [-5.15337499e-01, -6.98838177e-01],\n",
       "       [-6.67434929e-01, -7.33201589e-01],\n",
       "       [-6.12999251e-01, -7.24610736e-01],\n",
       "       [-5.63630928e-01, -6.98838177e-01],\n",
       "       [-6.62367574e-01, -7.24610736e-01],\n",
       "       [-6.17375603e-01, -7.16019883e-01],\n",
       "       [-5.75301201e-01, -6.98838177e-01],\n",
       "       [-6.51808281e-01,  1.05325425e+00],\n",
       "       [-6.83420668e-01,  1.03891698e+00],\n",
       "       [-6.61037009e-01,  1.08114016e+00],\n",
       "       [-6.57484486e-01,  1.05325683e+00],\n",
       "       [-6.79354884e-01,  1.03892213e+00],\n",
       "       [-6.61331069e-01,  1.08113329e+00],\n",
       "       [-6.43318926e-01,  1.05322676e+00],\n",
       "       [-6.78979285e-01,  1.03889636e+00],\n",
       "       [-6.48090685e-01,  1.08109291e+00],\n",
       "       [-6.63265878e-01, -8.32855483e-01],\n",
       "       [-6.53315435e-01, -8.32855483e-01],\n",
       "       [-6.52240542e-01, -8.44195409e-01],\n",
       "       [-6.45073305e-01, -8.49178104e-01],\n",
       "       [-6.47248429e-01, -8.59830761e-01],\n",
       "       [-6.49031984e-01, -8.59830761e-01],\n",
       "       [-6.76552022e-01, -8.42872418e-01],\n",
       "       [-6.55304756e-01, -8.56695100e-01],\n",
       "       [-6.58700651e-01, -8.66686262e-01],\n",
       "       [-6.28159856e-01,  1.46406369e+00],\n",
       "       [-6.42346915e-01,  1.45464811e+00],\n",
       "       [-6.46199640e-01,  1.47262018e+00],\n",
       "       [-6.28564477e-01,  1.46394342e+00],\n",
       "       [-6.33661775e-01,  1.45384057e+00],\n",
       "       [-6.41652073e-01,  1.47212191e+00],\n",
       "       [-6.29606356e-01,  1.46381455e+00],\n",
       "       [-6.38498796e-01,  1.45404675e+00],\n",
       "       [-5.83457339e-01,  1.46404651e+00],\n",
       "       [-2.80788060e-01,  1.82687259e+00],\n",
       "       [-6.96610610e-01,  1.44028421e+00],\n",
       "       [-6.92003923e-01,  1.44028421e+00],\n",
       "       [ 1.45018204e+00,  1.57773785e+00],\n",
       "       [ 8.05245941e-01,  1.80969088e+00],\n",
       "       [ 3.80726992e+00,  3.16360931e+00],\n",
       "       [-6.33345449e-01,  1.46605677e+00],\n",
       "       [-8.53801000e-02,  1.46605677e+00],\n",
       "       [-6.33575784e-01,  1.45746591e+00],\n",
       "       [ 2.61171963e+00,  1.42026176e-02],\n",
       "       [ 3.40018472e+00,  1.42026176e-02],\n",
       "       [ 2.51320564e+00,  1.50617029e-02],\n",
       "       [ 2.78609039e+00, -2.61306036e-01],\n",
       "       [ 3.17487937e+00, -2.62422847e-01],\n",
       "       [ 2.93226055e+00, -2.61649671e-01],\n",
       "       [-3.60956688e-01,  4.77069441e-02],\n",
       "       [-3.61598553e-01,  5.10573768e-02],\n",
       "       [-3.61737522e-01,  4.42706030e-02],\n",
       "       [-8.66853278e-02, -8.74950663e-01],\n",
       "       [-5.92755436e-02, -8.74091577e-01],\n",
       "       [-4.83730524e-02, -8.70655236e-01],\n",
       "       [ 1.81807712e-01, -8.75809748e-01],\n",
       "       [ 4.87384578e-01, -8.74950663e-01],\n",
       "       [ 6.42476354e-01, -8.74091577e-01],\n",
       "       [ 5.61859342e-01, -8.74091577e-01],\n",
       "       [ 7.96032568e-01, -8.70655236e-01],\n",
       "       [ 1.25593343e+00, -8.68937066e-01],\n",
       "       [-2.07457290e-01, -7.37497015e-01],\n",
       "       [-7.61667272e-02, -7.83887621e-01],\n",
       "       [-1.69068237e-01, -7.80451280e-01],\n",
       "       [-1.86727201e-01, -7.58974148e-01],\n",
       "       [ 1.21920789e-01, -8.09660180e-01],\n",
       "       [-1.82120515e-01, -7.94196645e-01],\n",
       "       [-2.02082823e-01, -7.68424086e-01],\n",
       "       [-2.19741787e-01, -7.58115062e-01],\n",
       "       [-1.53712615e-01, -7.37497015e-01],\n",
       "       [-1.86266533e-01,  1.85160591e-01],\n",
       "       [ 6.20338654e-02, -1.36566852e-01],\n",
       "       [ 6.29424076e-01, -3.75822106e-01],\n",
       "       [-1.15451666e-03,  1.80006080e-01],\n",
       "       [ 6.28016464e-02, -1.36996394e-01],\n",
       "       [ 4.81242329e-01, -3.64653997e-01],\n",
       "       [-2.18897228e-01,  1.83442421e-01],\n",
       "       [-5.11370643e-02, -1.34419138e-01],\n",
       "       [ 5.71072715e-01, -3.82608880e-01],\n",
       "       [-9.41481598e-02, -8.92252640e-01],\n",
       "       [ 1.39630926e-02, -8.98979278e-01],\n",
       "       [ 1.91251419e-01, -8.16489908e-01],\n",
       "       [ 7.23221317e-02, -8.33259253e-01],\n",
       "       [ 2.70998267e-02, -8.93472542e-01],\n",
       "       [-1.35569949e-01, -8.97072109e-01],\n",
       "       [-2.47113182e-01, -8.33259253e-01],\n",
       "       [ 7.23221317e-02, -8.94554989e-01],\n",
       "       [-1.35554593e-01, -8.97072109e-01]])"
      ]
     },
     "execution_count": 9,
     "metadata": {},
     "output_type": "execute_result"
    }
   ],
   "source": [
    "X_Std"
   ]
  },
  {
   "cell_type": "markdown",
   "metadata": {},
   "source": [
    "### Eigen Decomposition \n",
    "Compute Eigen vactors and eigen values \n",
    "#### 1. Covariance Matrix"
   ]
  },
  {
   "cell_type": "code",
   "execution_count": 10,
   "metadata": {},
   "outputs": [
    {
     "name": "stdout",
     "output_type": "stream",
     "text": [
      "Covariance matrix \n",
      "\n"
     ]
    },
    {
     "data": {
      "text/plain": [
       "array([[1.01123596, 0.00619437],\n",
       "       [0.00619437, 1.01123596]])"
      ]
     },
     "execution_count": 10,
     "metadata": {},
     "output_type": "execute_result"
    }
   ],
   "source": [
    "print('Covariance matrix \\n')\n",
    "cov_mat= np.cov(X_Std, rowvar= False)\n",
    "cov_mat"
   ]
  },
  {
   "cell_type": "markdown",
   "metadata": {},
   "source": [
    "#### 2. Eigenvectors and Eigenvalues computation from Covariance matrix"
   ]
  },
  {
   "cell_type": "code",
   "execution_count": 11,
   "metadata": {},
   "outputs": [
    {
     "name": "stdout",
     "output_type": "stream",
     "text": [
      "Eigenvactors \n",
      " [[-0.70710678 -0.70710678]\n",
      " [ 0.70710678 -0.70710678]]\n",
      "\n",
      "Eigenvalues \n",
      "[1.00504159 1.01743032]\n"
     ]
    }
   ],
   "source": [
    "cov_mat = np.cov(X_Std.T)\n",
    "eig_vals, eig_vecs= np.linalg. eig(cov_mat)\n",
    "print('Eigenvactors \\n %s' %eig_vecs)\n",
    "print('\\nEigenvalues \\n%s' %eig_vals)"
   ]
  },
  {
   "cell_type": "markdown",
   "metadata": {},
   "source": [
    "#### 3. Eigen vector verification"
   ]
  },
  {
   "cell_type": "code",
   "execution_count": 12,
   "metadata": {},
   "outputs": [
    {
     "name": "stdout",
     "output_type": "stream",
     "text": [
      "[array([0.5, 0.5]), array([0.5, 0.5])]\n",
      "sum of squares of each values in an eigen vector is 1.0\n"
     ]
    }
   ],
   "source": [
    "sq_eig= [] \n",
    "for i in eig_vecs: sq_eig.append(i**2)\n",
    "print(sq_eig)\n",
    "sum(sq_eig)\n",
    "print (\"sum of squares of each values in an eigen vector is\",0.3466047+ 0.3713541+ 0.2820412 )\n",
    "for ev in eig_vecs: np.testing.assert_array_almost_equal(1.0,np.linalg.norm(ev))"
   ]
  },
  {
   "cell_type": "markdown",
   "metadata": {},
   "source": [
    "### 3. Selecting the Principal Components\n",
    "PCA goal: Reduce dimensionality\n",
    "#### 3.1 Sorting eigenvalues \n",
    "Eigen-vectors to be dropped: Lowest eigen values with least info about distribution "
   ]
  },
  {
   "cell_type": "code",
   "execution_count": 13,
   "metadata": {},
   "outputs": [
    {
     "name": "stdout",
     "output_type": "stream",
     "text": [
      "<class 'list'>\n",
      "\n",
      " [(1.0174303238558142, array([-0.70710678, -0.70710678])), (1.0050415862565447, array([-0.70710678,  0.70710678]))]\n",
      "\n",
      " \n",
      "Eigenvalues in descending order:\n",
      "1.0174303238558142\n",
      "1.0050415862565447\n"
     ]
    }
   ],
   "source": [
    "eig_pairs = [(np.abs(eig_vals[i]), eig_vecs[:,i])\n",
    "for i in range(len(eig_vals))]\n",
    "print(type(eig_pairs))\n",
    "\n",
    "#sort the (eigenvalue, eigenvector) tuples from high to low\n",
    "eig_pairs.sort()\n",
    "eig_pairs.reverse()\n",
    "print(\"\\n\", eig_pairs)\n",
    "\n",
    "#Visually confirm that list is correctly sorted by descending eigenvalues\n",
    "print('\\n \\nEigenvalues in descending order:')\n",
    "for i in eig_pairs:\n",
    "    print(i[0])"
   ]
  },
  {
   "cell_type": "markdown",
   "metadata": {},
   "source": [
    "#### 3.2 Explained Variance\n",
    "How many principal components are we choosing for our new feature subspace? "
   ]
  },
  {
   "cell_type": "code",
   "execution_count": 14,
   "metadata": {},
   "outputs": [
    {
     "name": "stdout",
     "output_type": "stream",
     "text": [
      "\n",
      " 2.022471910112359\n",
      "\n",
      "\n",
      "1. Variance Explained \n",
      " [50.306277123981936, 49.69372287601806]\n",
      "\n",
      "\n",
      "2. Cumulative Variance Explained \n",
      " [ 50.30627712 100.        ]\n",
      "\n",
      "\n",
      "3. Percentage of variance the first two princiapl components each contain\n",
      "  [50.306277123981936, 49.69372287601806]\n",
      "\n",
      "\n",
      "4. Percentage of variance the first two principal components together contain\n",
      " 100.0\n"
     ]
    }
   ],
   "source": [
    "tot = sum(eig_vals)\n",
    "print(\"\\n\", tot)\n",
    "var_exp= [(i/tot)*100 for i in sorted(eig_vals, reverse = True)]\n",
    "print(\"\\n\\n1. Variance Explained \\n\", var_exp)\n",
    "cum_var_exp = np.cumsum(var_exp)\n",
    "print(\"\\n\\n2. Cumulative Variance Explained \\n\", cum_var_exp)\n",
    "print(\"\\n\\n3. Percentage of variance the first two princiapl components each contain\\n \", var_exp[0:2])\n",
    "print(\"\\n\\n4. Percentage of variance the first two principal components together contain\\n\", sum(var_exp[0:2]))"
   ]
  },
  {
   "cell_type": "markdown",
   "metadata": {},
   "source": [
    "### 4. Construct the variance matrix W from the selected k eigenvectors "
   ]
  },
  {
   "cell_type": "code",
   "execution_count": 15,
   "metadata": {},
   "outputs": [
    {
     "name": "stdout",
     "output_type": "stream",
     "text": [
      "[-0.70710678 -0.70710678]\n",
      "[-0.70710678  0.70710678]\n",
      "Matrix W:\n",
      " [[-0.70710678 -0.70710678]\n",
      " [-0.70710678  0.70710678]]\n"
     ]
    }
   ],
   "source": [
    "print(eig_pairs[0][1])\n",
    "print(eig_pairs[1][1])\n",
    "matrix_w = np.hstack((eig_pairs[0][1].reshape(2,1), eig_pairs[1][1].reshape(2,1)))\n",
    "#hstack: Stacks arrays in sequence horizontally (columnwise).\n",
    "print ('Matrix W:\\n', matrix_w)"
   ]
  },
  {
   "cell_type": "markdown",
   "metadata": {},
   "source": [
    "## 5. Projection onto the new feature space \n",
    "3x2 dimensional projection matrix W to transform onto the new subspace "
   ]
  },
  {
   "cell_type": "code",
   "execution_count": 16,
   "metadata": {},
   "outputs": [
    {
     "data": {
      "text/html": [
       "<div>\n",
       "<style scoped>\n",
       "    .dataframe tbody tr th:only-of-type {\n",
       "        vertical-align: middle;\n",
       "    }\n",
       "\n",
       "    .dataframe tbody tr th {\n",
       "        vertical-align: top;\n",
       "    }\n",
       "\n",
       "    .dataframe thead th {\n",
       "        text-align: right;\n",
       "    }\n",
       "</style>\n",
       "<table border=\"1\" class=\"dataframe\">\n",
       "  <thead>\n",
       "    <tr style=\"text-align: right;\">\n",
       "      <th></th>\n",
       "      <th>Principal component 1</th>\n",
       "      <th>Principal component 2</th>\n",
       "    </tr>\n",
       "  </thead>\n",
       "  <tbody>\n",
       "    <tr>\n",
       "      <th>0</th>\n",
       "      <td>0.967766</td>\n",
       "      <td>-0.069138</td>\n",
       "    </tr>\n",
       "    <tr>\n",
       "      <th>1</th>\n",
       "      <td>0.912422</td>\n",
       "      <td>-0.124481</td>\n",
       "    </tr>\n",
       "    <tr>\n",
       "      <th>2</th>\n",
       "      <td>0.858552</td>\n",
       "      <td>-0.129755</td>\n",
       "    </tr>\n",
       "    <tr>\n",
       "      <th>3</th>\n",
       "      <td>0.990400</td>\n",
       "      <td>-0.046504</td>\n",
       "    </tr>\n",
       "    <tr>\n",
       "      <th>4</th>\n",
       "      <td>0.945833</td>\n",
       "      <td>-0.078921</td>\n",
       "    </tr>\n",
       "  </tbody>\n",
       "</table>\n",
       "</div>"
      ],
      "text/plain": [
       "   Principal component 1  Principal component 2\n",
       "0               0.967766              -0.069138\n",
       "1               0.912422              -0.124481\n",
       "2               0.858552              -0.129755\n",
       "3               0.990400              -0.046504\n",
       "4               0.945833              -0.078921"
      ]
     },
     "execution_count": 16,
     "metadata": {},
     "output_type": "execute_result"
    }
   ],
   "source": [
    "y= X_Std.dot(matrix_w)\n",
    "principalDf = pd.DataFrame(data=y, columns = ['Principal component 1', 'Principal component 2'])\n",
    "principalDf.head()"
   ]
  },
  {
   "cell_type": "code",
   "execution_count": 17,
   "metadata": {},
   "outputs": [
    {
     "data": {
      "text/html": [
       "<div>\n",
       "<style scoped>\n",
       "    .dataframe tbody tr th:only-of-type {\n",
       "        vertical-align: middle;\n",
       "    }\n",
       "\n",
       "    .dataframe tbody tr th {\n",
       "        vertical-align: top;\n",
       "    }\n",
       "\n",
       "    .dataframe thead th {\n",
       "        text-align: right;\n",
       "    }\n",
       "</style>\n",
       "<table border=\"1\" class=\"dataframe\">\n",
       "  <thead>\n",
       "    <tr style=\"text-align: right;\">\n",
       "      <th></th>\n",
       "      <th>Principal component 1</th>\n",
       "      <th>Principal component 2</th>\n",
       "      <th>Angle</th>\n",
       "    </tr>\n",
       "  </thead>\n",
       "  <tbody>\n",
       "    <tr>\n",
       "      <th>0</th>\n",
       "      <td>0.967766</td>\n",
       "      <td>-0.069138</td>\n",
       "      <td>2.5-5</td>\n",
       "    </tr>\n",
       "    <tr>\n",
       "      <th>1</th>\n",
       "      <td>0.912422</td>\n",
       "      <td>-0.124481</td>\n",
       "      <td>2.5-5</td>\n",
       "    </tr>\n",
       "    <tr>\n",
       "      <th>2</th>\n",
       "      <td>0.858552</td>\n",
       "      <td>-0.129755</td>\n",
       "      <td>2.5-5</td>\n",
       "    </tr>\n",
       "    <tr>\n",
       "      <th>3</th>\n",
       "      <td>0.990400</td>\n",
       "      <td>-0.046504</td>\n",
       "      <td>2.5-5</td>\n",
       "    </tr>\n",
       "    <tr>\n",
       "      <th>4</th>\n",
       "      <td>0.945833</td>\n",
       "      <td>-0.078921</td>\n",
       "      <td>2.5-5</td>\n",
       "    </tr>\n",
       "  </tbody>\n",
       "</table>\n",
       "</div>"
      ],
      "text/plain": [
       "   Principal component 1  Principal component 2  Angle\n",
       "0               0.967766              -0.069138  2.5-5\n",
       "1               0.912422              -0.124481  2.5-5\n",
       "2               0.858552              -0.129755  2.5-5\n",
       "3               0.990400              -0.046504  2.5-5\n",
       "4               0.945833              -0.078921  2.5-5"
      ]
     },
     "execution_count": 17,
     "metadata": {},
     "output_type": "execute_result"
    }
   ],
   "source": [
    "#Y.shape\n",
    "finalDf = pd.concat([principalDf, pd.DataFrame(Y,columns = ['Angle'])], axis =1)\n",
    "finalDf.head()"
   ]
  },
  {
   "cell_type": "markdown",
   "metadata": {},
   "source": [
    "### 6. Visualize 2D Projection\n",
    "a. Angle (y)\n",
    "b. Spacing (z)"
   ]
  },
  {
   "cell_type": "code",
   "execution_count": 18,
   "metadata": {},
   "outputs": [
    {
     "data": {
      "image/png": "[encoded data removed]",
      "text/plain": [
       "<Figure size 864x576 with 1 Axes>"
      ]
     },
     "metadata": {
      "needs_background": "light"
     },
     "output_type": "display_data"
    }
   ],
   "source": [
    "fig= plt.figure(figsize = (12,8))\n",
    "ax = fig.add_subplot(1,1,1)\n",
    "ax.set_xlabel('Principal Component 1', fontsize = 20)\n",
    "ax.set_ylabel('Principal Component 2', fontsize = 20)\n",
    "ax.set_title('PCA Analysis: Fiber Spacing', fontsize= 20)\n",
    "\n",
    "targets = ['2.5-5','5-7.5','7.5-10', '10-12.5', '12.5-15']\n",
    "colors = ['r','g', 'b', 'c', 'y']\n",
    "\n",
    "for target, color in zip(targets, colors):\n",
    "    indicesToKeep = finalDf['Angle'] == target\n",
    "    ax.scatter(finalDf.loc[indicesToKeep, 'Principal component 1'], finalDf.loc[indicesToKeep, 'Principal component 2'],c= color, s=50) \n",
    "ax.legend(targets,loc=2, prop={'size': 16}) \n",
    "ax.grid()\n",
    "#plt.plot(principalDf.iloc[:,0], principalDf.iloc[:,1], 'o');\n"
   ]
  },
  {
   "cell_type": "code",
   "execution_count": null,
   "metadata": {},
   "outputs": [],
   "source": []
  },
  {
   "cell_type": "code",
   "execution_count": 20,
   "metadata": {},
   "outputs": [
    {
     "data": {
      "image/png": "[encoded data removed]",
      "text/plain": [
       "<Figure size 864x576 with 1 Axes>"
      ]
     },
     "metadata": {
      "needs_background": "light"
     },
     "output_type": "display_data"
    }
   ],
   "source": [
    "fig= plt.figure(figsize = (12,8))\n",
    "ax = fig.add_subplot(1,1,1)\n",
    "ax.set_xlabel('Principal Component 1', fontsize = 15)\n",
    "ax.set_ylabel('Principal Component 2', fontsize = 15)\n",
    "ax.set_title('PCA Analysis: Max crack tip stress vs crack length ', fontsize= 20)\n",
    "\n",
    "plt.plot(principalDf.iloc[:,0], principalDf.iloc[:,1], 'o');"
   ]
  },
  {
   "cell_type": "code",
   "execution_count": 24,
   "metadata": {},
   "outputs": [
    {
     "data": {
      "image/png": "[encoded data removed]",
      "text/plain": [
       "<Figure size 864x576 with 1 Axes>"
      ]
     },
     "metadata": {
      "needs_background": "light"
     },
     "output_type": "display_data"
    }
   ],
   "source": [
    "fig= plt.figure(figsize = (12,8))\n",
    "ax = fig.add_subplot(1,1,1)\n",
    "ax.set_xlabel('Max crack tip stress [MPa]', fontsize = 15)\n",
    "ax.set_ylabel('Crack length [mm]', fontsize = 15)\n",
    "ax.set_title('Before PCA Analysis ', fontsize= 20)\n",
    "\n",
    "plt.plot(df.iloc[:,0], df.iloc[:,1], 'o');"
   ]
  },
  {
   "cell_type": "code",
   "execution_count": null,
   "metadata": {},
   "outputs": [],
   "source": []
  }
 ],
 "metadata": {
  "kernelspec": {
   "display_name": "Python 3",
   "language": "python",
   "name": "python3"
  },
  "language_info": {
   "codemirror_mode": {
    "name": "ipython",
    "version": 3
   },
   "file_extension": ".py",
   "mimetype": "text/x-python",
   "name": "python",
   "nbconvert_exporter": "python",
   "pygments_lexer": "ipython3",
   "version": "3.8.5"
  }
 },
 "nbformat": 4,
 "nbformat_minor": 4
}
