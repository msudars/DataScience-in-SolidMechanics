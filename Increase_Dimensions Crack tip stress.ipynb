{
 "cells": [
  {
   "cell_type": "markdown",
   "metadata": {},
   "source": [
    "# Principal Component Analysis\n",
    "Viewing it in terms, at what angle and spacing do we get max stress and have the longest crack length!"
   ]
  },
  {
   "cell_type": "markdown",
   "metadata": {},
   "source": [
    "## Importing Libraries"
   ]
  },
  {
   "cell_type": "code",
   "execution_count": 2,
   "metadata": {},
   "outputs": [],
   "source": [
    "import pandas as pd\n",
    "import numpy as np\n",
    "import matplotlib.pyplot as plt\n",
    "from sklearn.decomposition import PCA"
   ]
  },
  {
   "cell_type": "code",
   "execution_count": 3,
   "metadata": {},
   "outputs": [],
   "source": [
    "from sklearn.preprocessing import StandardScaler"
   ]
  },
  {
   "cell_type": "markdown",
   "metadata": {},
   "source": [
    "## Reading data"
   ]
  },
  {
   "cell_type": "code",
   "execution_count": 5,
   "metadata": {},
   "outputs": [
    {
     "data": {
      "text/html": [
       "<div>\n",
       "<style scoped>\n",
       "    .dataframe tbody tr th:only-of-type {\n",
       "        vertical-align: middle;\n",
       "    }\n",
       "\n",
       "    .dataframe tbody tr th {\n",
       "        vertical-align: top;\n",
       "    }\n",
       "\n",
       "    .dataframe thead th {\n",
       "        text-align: right;\n",
       "    }\n",
       "</style>\n",
       "<table border=\"1\" class=\"dataframe\">\n",
       "  <thead>\n",
       "    <tr style=\"text-align: right;\">\n",
       "      <th></th>\n",
       "      <th>Angle</th>\n",
       "      <th>Spacing</th>\n",
       "      <th>Max stress</th>\n",
       "    </tr>\n",
       "  </thead>\n",
       "  <tbody>\n",
       "    <tr>\n",
       "      <th>0</th>\n",
       "      <td>50.97</td>\n",
       "      <td>9.0</td>\n",
       "      <td>0-50</td>\n",
       "    </tr>\n",
       "    <tr>\n",
       "      <th>1</th>\n",
       "      <td>50.97</td>\n",
       "      <td>5.0</td>\n",
       "      <td>0-50</td>\n",
       "    </tr>\n",
       "    <tr>\n",
       "      <th>2</th>\n",
       "      <td>53.54</td>\n",
       "      <td>5.6</td>\n",
       "      <td>0-50</td>\n",
       "    </tr>\n",
       "    <tr>\n",
       "      <th>3</th>\n",
       "      <td>53.54</td>\n",
       "      <td>6.6</td>\n",
       "      <td>0-50</td>\n",
       "    </tr>\n",
       "    <tr>\n",
       "      <th>4</th>\n",
       "      <td>53.54</td>\n",
       "      <td>4.6</td>\n",
       "      <td>0-50</td>\n",
       "    </tr>\n",
       "    <tr>\n",
       "      <th>...</th>\n",
       "      <td>...</td>\n",
       "      <td>...</td>\n",
       "      <td>...</td>\n",
       "    </tr>\n",
       "    <tr>\n",
       "      <th>85</th>\n",
       "      <td>50.00</td>\n",
       "      <td>15.0</td>\n",
       "      <td>&gt;200</td>\n",
       "    </tr>\n",
       "    <tr>\n",
       "      <th>86</th>\n",
       "      <td>50.00</td>\n",
       "      <td>10.0</td>\n",
       "      <td>&gt;200</td>\n",
       "    </tr>\n",
       "    <tr>\n",
       "      <th>87</th>\n",
       "      <td>50.00</td>\n",
       "      <td>5.0</td>\n",
       "      <td>&gt;200</td>\n",
       "    </tr>\n",
       "    <tr>\n",
       "      <th>88</th>\n",
       "      <td>60.00</td>\n",
       "      <td>5.0</td>\n",
       "      <td>&gt;200</td>\n",
       "    </tr>\n",
       "    <tr>\n",
       "      <th>89</th>\n",
       "      <td>70.00</td>\n",
       "      <td>5.0</td>\n",
       "      <td>&gt;200</td>\n",
       "    </tr>\n",
       "  </tbody>\n",
       "</table>\n",
       "<p>90 rows × 3 columns</p>\n",
       "</div>"
      ],
      "text/plain": [
       "    Angle  Spacing Max stress\n",
       "0   50.97      9.0       0-50\n",
       "1   50.97      5.0       0-50\n",
       "2   53.54      5.6       0-50\n",
       "3   53.54      6.6       0-50\n",
       "4   53.54      4.6       0-50\n",
       "..    ...      ...        ...\n",
       "85  50.00     15.0       >200\n",
       "86  50.00     10.0       >200\n",
       "87  50.00      5.0       >200\n",
       "88  60.00      5.0       >200\n",
       "89  70.00      5.0       >200\n",
       "\n",
       "[90 rows x 3 columns]"
      ]
     },
     "execution_count": 5,
     "metadata": {},
     "output_type": "execute_result"
    }
   ],
   "source": [
    "from pandas import ExcelWriter\n",
    "from pandas import ExcelFile\n",
    "\n",
    "#Atul's Data: \n",
    "df= pd.read_excel('AtulData3.xlsx')\n",
    "df"
   ]
  },
  {
   "cell_type": "markdown",
   "metadata": {},
   "source": [
    "### Setting x array as independent features; Y- array as class column values\n",
    "X data: stored as 90x2 columns -> 2D vector "
   ]
  },
  {
   "cell_type": "code",
   "execution_count": 6,
   "metadata": {},
   "outputs": [
    {
     "data": {
      "text/plain": [
       "array([[50.97,  9.  ],\n",
       "       [50.97,  5.  ],\n",
       "       [53.54,  5.6 ],\n",
       "       [53.54,  6.6 ],\n",
       "       [53.54,  4.6 ],\n",
       "       [60.  ,  5.  ],\n",
       "       [47.36,  4.19],\n",
       "       [45.  ,  5.  ],\n",
       "       [47.36,  5.58],\n",
       "       [33.54,  6.6 ],\n",
       "       [33.54,  5.6 ],\n",
       "       [60.  , 10.  ],\n",
       "       [43.54,  6.6 ],\n",
       "       [60.  ,  7.5 ],\n",
       "       [45.  ,  7.5 ],\n",
       "       [45.  , 10.  ],\n",
       "       [43.54,  5.6 ],\n",
       "       [50.  , 10.  ],\n",
       "       [33.54,  4.6 ],\n",
       "       [50.  ,  7.5 ],\n",
       "       [20.  ,  5.  ],\n",
       "       [50.  ,  5.  ],\n",
       "       [43.54,  4.6 ],\n",
       "       [45.  ,  5.  ],\n",
       "       [20.  ,  7.5 ],\n",
       "       [45.  , 10.  ],\n",
       "       [47.36,  2.79],\n",
       "       [45.  ,  7.5 ],\n",
       "       [65.  ,  5.  ],\n",
       "       [65.  ,  7.  ],\n",
       "       [30.  , 10.  ],\n",
       "       [30.  ,  7.5 ],\n",
       "       [30.  ,  5.  ],\n",
       "       [50.97,  5.58],\n",
       "       [50.97,  4.19],\n",
       "       [20.  , 10.  ],\n",
       "       [55.  ,  5.58],\n",
       "       [55.  ,  4.19],\n",
       "       [50.97,  2.79],\n",
       "       [55.  ,  2.79],\n",
       "       [40.  ,  5.  ],\n",
       "       [40.  , 15.  ],\n",
       "       [40.  , 10.  ],\n",
       "       [50.97,  7.  ],\n",
       "       [55.  ,  3.  ],\n",
       "       [45.  ,  3.5 ],\n",
       "       [45.  ,  9.  ],\n",
       "       [25.  ,  2.5 ],\n",
       "       [45.  ,  2.5 ],\n",
       "       [35.  ,  2.5 ],\n",
       "       [45.  ,  5.  ],\n",
       "       [35.  ,  5.5 ],\n",
       "       [25.  ,  5.5 ],\n",
       "       [45.  ,  5.5 ],\n",
       "       [50.  ,  5.  ],\n",
       "       [55.  ,  5.  ],\n",
       "       [45.  ,  3.  ],\n",
       "       [75.  ,  3.  ],\n",
       "       [65.  ,  9.  ],\n",
       "       [25.  ,  3.5 ],\n",
       "       [80.  ,  3.  ],\n",
       "       [35.  ,  9.  ],\n",
       "       [85.  ,  3.  ],\n",
       "       [45.  ,  7.  ],\n",
       "       [45.  ,  4.  ],\n",
       "       [50.  ,  4.  ],\n",
       "       [35.  ,  5.  ],\n",
       "       [35.  ,  7.  ],\n",
       "       [50.  ,  3.  ],\n",
       "       [55.  ,  4.  ],\n",
       "       [35.  ,  3.5 ],\n",
       "       [75.  ,  4.  ],\n",
       "       [45.  ,  5.  ],\n",
       "       [25.  ,  7.  ],\n",
       "       [80.  ,  4.  ],\n",
       "       [75.  ,  5.  ],\n",
       "       [25.  ,  9.  ],\n",
       "       [25.  ,  5.  ],\n",
       "       [85.  ,  4.  ],\n",
       "       [80.  ,  5.  ],\n",
       "       [70.  ,  9.  ],\n",
       "       [85.  ,  5.  ],\n",
       "       [70.  ,  7.  ],\n",
       "       [60.  , 15.  ],\n",
       "       [60.  , 10.  ],\n",
       "       [50.  , 15.  ],\n",
       "       [50.  , 10.  ],\n",
       "       [50.  ,  5.  ],\n",
       "       [60.  ,  5.  ],\n",
       "       [70.  ,  5.  ]])"
      ]
     },
     "execution_count": 6,
     "metadata": {},
     "output_type": "execute_result"
    }
   ],
   "source": [
    "X= df. iloc[:, 0:2].values \n",
    "X"
   ]
  },
  {
   "cell_type": "code",
   "execution_count": 7,
   "metadata": {},
   "outputs": [
    {
     "data": {
      "text/plain": [
       "array(['0-50', '0-50', '0-50', '0-50', '0-50', '0-50', '0-50', '0-50',\n",
       "       '0-50', '0-50', '0-50', '0-50', '0-50', '0-50', '0-50', '0-50',\n",
       "       '0-50', '0-50', '0-50', '0-50', '0-50', '0-50', '0-50', '0-50',\n",
       "       '0-50', '0-50', '0-50', '0-50', '0-50', '0-50', '0-50', '0-50',\n",
       "       '0-50', '0-50', '0-50', '0-50', '0-50', '0-50', '0-50', '0-50',\n",
       "       '50-100', '50-100', '50-100', '50-100', '50-100', '50-100',\n",
       "       '50-100', '50-100', '50-100', '50-100', '50-100', '50-100',\n",
       "       '50-100', '50-100', '50-100', '50-100', '50-100', '50-100',\n",
       "       '50-100', '50-100', '50-100', '50-100', '50-100', '50-100',\n",
       "       '50-100', '100-150', '100-150', '100-150', '100-150', '100-150',\n",
       "       '100-150', '100-150', '100-150', '150-200', '150-200', '150-200',\n",
       "       '150-200', '150-200', '150-200', '>200', '>200', '>200', '>200',\n",
       "       '>200', '>200', '>200', '>200', '>200', '>200', '>200'],\n",
       "      dtype=object)"
      ]
     },
     "execution_count": 7,
     "metadata": {},
     "output_type": "execute_result"
    }
   ],
   "source": [
    "# Y contains angle\n",
    "Y= df.iloc[:,2].values\n",
    "Y\n"
   ]
  },
  {
   "cell_type": "code",
   "execution_count": 8,
   "metadata": {},
   "outputs": [],
   "source": [
    "#Z contains spacing \n",
    "#Z= df. iloc[:,3].values\n",
    "#Z"
   ]
  },
  {
   "cell_type": "markdown",
   "metadata": {},
   "source": [
    "## Dimensionality Reduction and PCA"
   ]
  },
  {
   "cell_type": "markdown",
   "metadata": {},
   "source": [
    "### Standardization\n",
    "Transformation of data onto the unit scale: Mean=0, Variance=1 X_"
   ]
  },
  {
   "cell_type": "code",
   "execution_count": 9,
   "metadata": {},
   "outputs": [],
   "source": [
    "X_Std = StandardScaler().fit_transform(X)"
   ]
  },
  {
   "cell_type": "code",
   "execution_count": 10,
   "metadata": {},
   "outputs": [
    {
     "data": {
      "text/plain": [
       "array([[ 0.12774483,  1.0815629 ],\n",
       "       [ 0.12774483, -0.39095296],\n",
       "       [ 0.29417143, -0.17007558],\n",
       "       [ 0.29417143,  0.19805338],\n",
       "       [ 0.29417143, -0.53820455],\n",
       "       [ 0.71250444, -0.39095296],\n",
       "       [-0.1060295 , -0.68913742],\n",
       "       [-0.25885704, -0.39095296],\n",
       "       [-0.1060295 , -0.17743816],\n",
       "       [-1.00097722,  0.19805338],\n",
       "       [-1.00097722, -0.17007558],\n",
       "       [ 0.71250444,  1.44969186],\n",
       "       [-0.35340289,  0.19805338],\n",
       "       [ 0.71250444,  0.52936945],\n",
       "       [-0.25885704,  0.52936945],\n",
       "       [-0.25885704,  1.44969186],\n",
       "       [-0.35340289, -0.17007558],\n",
       "       [ 0.06493012,  1.44969186],\n",
       "       [-1.00097722, -0.53820455],\n",
       "       [ 0.06493012,  0.52936945],\n",
       "       [-1.87779285, -0.39095296],\n",
       "       [ 0.06493012, -0.39095296],\n",
       "       [-0.35340289, -0.53820455],\n",
       "       [-0.25885704, -0.39095296],\n",
       "       [-1.87779285,  0.52936945],\n",
       "       [-0.25885704,  1.44969186],\n",
       "       [-0.1060295 , -1.20451797],\n",
       "       [-0.25885704,  0.52936945],\n",
       "       [ 1.0362916 , -0.39095296],\n",
       "       [ 1.0362916 ,  0.34530497],\n",
       "       [-1.23021853,  1.44969186],\n",
       "       [-1.23021853,  0.52936945],\n",
       "       [-1.23021853, -0.39095296],\n",
       "       [ 0.12774483, -0.17743816],\n",
       "       [ 0.12774483, -0.68913742],\n",
       "       [-1.87779285,  1.44969186],\n",
       "       [ 0.38871728, -0.17743816],\n",
       "       [ 0.38871728, -0.68913742],\n",
       "       [ 0.12774483, -1.20451797],\n",
       "       [ 0.38871728, -1.20451797],\n",
       "       [-0.5826442 , -0.39095296],\n",
       "       [-0.5826442 ,  3.29033668],\n",
       "       [-0.5826442 ,  1.44969186],\n",
       "       [ 0.12774483,  0.34530497],\n",
       "       [ 0.38871728, -1.12721089],\n",
       "       [-0.25885704, -0.94314641],\n",
       "       [-0.25885704,  1.0815629 ],\n",
       "       [-1.55400569, -1.31127537],\n",
       "       [-0.25885704, -1.31127537],\n",
       "       [-0.90643137, -1.31127537],\n",
       "       [-0.25885704, -0.39095296],\n",
       "       [-0.90643137, -0.20688848],\n",
       "       [-1.55400569, -0.20688848],\n",
       "       [-0.25885704, -0.20688848],\n",
       "       [ 0.06493012, -0.39095296],\n",
       "       [ 0.38871728, -0.39095296],\n",
       "       [-0.25885704, -1.12721089],\n",
       "       [ 1.68386593, -1.12721089],\n",
       "       [ 1.0362916 ,  1.0815629 ],\n",
       "       [-1.55400569, -0.94314641],\n",
       "       [ 2.00765309, -1.12721089],\n",
       "       [-0.90643137,  1.0815629 ],\n",
       "       [ 2.33144025, -1.12721089],\n",
       "       [-0.25885704,  0.34530497],\n",
       "       [-0.25885704, -0.75908192],\n",
       "       [ 0.06493012, -0.75908192],\n",
       "       [-0.90643137, -0.39095296],\n",
       "       [-0.90643137,  0.34530497],\n",
       "       [ 0.06493012, -1.12721089],\n",
       "       [ 0.38871728, -0.75908192],\n",
       "       [-0.90643137, -0.94314641],\n",
       "       [ 1.68386593, -0.75908192],\n",
       "       [-0.25885704, -0.39095296],\n",
       "       [-1.55400569,  0.34530497],\n",
       "       [ 2.00765309, -0.75908192],\n",
       "       [ 1.68386593, -0.39095296],\n",
       "       [-1.55400569,  1.0815629 ],\n",
       "       [-1.55400569, -0.39095296],\n",
       "       [ 2.33144025, -0.75908192],\n",
       "       [ 2.00765309, -0.39095296],\n",
       "       [ 1.36007876,  1.0815629 ],\n",
       "       [ 2.33144025, -0.39095296],\n",
       "       [ 1.36007876,  0.34530497],\n",
       "       [ 0.71250444,  3.29033668],\n",
       "       [ 0.71250444,  1.44969186],\n",
       "       [ 0.06493012,  3.29033668],\n",
       "       [ 0.06493012,  1.44969186],\n",
       "       [ 0.06493012, -0.39095296],\n",
       "       [ 0.71250444, -0.39095296],\n",
       "       [ 1.36007876, -0.39095296]])"
      ]
     },
     "execution_count": 10,
     "metadata": {},
     "output_type": "execute_result"
    }
   ],
   "source": [
    "X_Std"
   ]
  },
  {
   "cell_type": "markdown",
   "metadata": {},
   "source": [
    "### Eigen Decomposition \n",
    "Compute Eigen vactors and eigen values \n",
    "#### 1. Covariance Matrix"
   ]
  },
  {
   "cell_type": "code",
   "execution_count": 11,
   "metadata": {},
   "outputs": [
    {
     "name": "stdout",
     "output_type": "stream",
     "text": [
      "Covariance matrix \n",
      "\n"
     ]
    },
    {
     "data": {
      "text/plain": [
       "array([[ 1.01123596, -0.13094203],\n",
       "       [-0.13094203,  1.01123596]])"
      ]
     },
     "execution_count": 11,
     "metadata": {},
     "output_type": "execute_result"
    }
   ],
   "source": [
    "print('Covariance matrix \\n')\n",
    "cov_mat= np.cov(X_Std, rowvar= False)\n",
    "cov_mat"
   ]
  },
  {
   "cell_type": "markdown",
   "metadata": {},
   "source": [
    "#### 2. Eigenvectors and Eigenvalues computation from Covariance matrix"
   ]
  },
  {
   "cell_type": "code",
   "execution_count": 12,
   "metadata": {},
   "outputs": [
    {
     "name": "stdout",
     "output_type": "stream",
     "text": [
      "Eigenvactors \n",
      " [[ 0.70710678  0.70710678]\n",
      " [-0.70710678  0.70710678]]\n",
      "\n",
      "Eigenvalues \n",
      "[1.14217798 0.88029393]\n"
     ]
    }
   ],
   "source": [
    "cov_mat = np.cov(X_Std.T)\n",
    "eig_vals, eig_vecs= np.linalg. eig(cov_mat)\n",
    "print('Eigenvactors \\n %s' %eig_vecs)\n",
    "print('\\nEigenvalues \\n%s' %eig_vals)"
   ]
  },
  {
   "cell_type": "markdown",
   "metadata": {},
   "source": [
    "#### 3. Eigen vector verification"
   ]
  },
  {
   "cell_type": "code",
   "execution_count": 13,
   "metadata": {},
   "outputs": [
    {
     "name": "stdout",
     "output_type": "stream",
     "text": [
      "[array([0.5, 0.5]), array([0.5, 0.5])]\n",
      "sum of squares of each values in an eigen vector is 1.0\n"
     ]
    }
   ],
   "source": [
    "sq_eig= [] \n",
    "for i in eig_vecs: sq_eig.append(i**2)\n",
    "print(sq_eig)\n",
    "sum(sq_eig)\n",
    "print (\"sum of squares of each values in an eigen vector is\",0.3466047+ 0.3713541+ 0.2820412 )\n",
    "for ev in eig_vecs: np.testing.assert_array_almost_equal(1.0,np.linalg.norm(ev))"
   ]
  },
  {
   "cell_type": "markdown",
   "metadata": {},
   "source": [
    "### 3. Selecting the Principal Components\n",
    "PCA goal: Reduce dimensionality\n",
    "#### 3.1 Sorting eigenvalues \n",
    "Eigen-vectors to be dropped: Lowest eigen values with least info about distribution "
   ]
  },
  {
   "cell_type": "code",
   "execution_count": 14,
   "metadata": {},
   "outputs": [
    {
     "name": "stdout",
     "output_type": "stream",
     "text": [
      "<class 'list'>\n",
      "\n",
      " [(1.1421779822308413, array([ 0.70710678, -0.70710678])), (0.8802939278815177, array([0.70710678, 0.70710678]))]\n",
      "\n",
      " \n",
      "Eigenvalues in descending order:\n",
      "1.1421779822308413\n",
      "0.8802939278815177\n"
     ]
    }
   ],
   "source": [
    "eig_pairs = [(np.abs(eig_vals[i]), eig_vecs[:,i])\n",
    "for i in range(len(eig_vals))]\n",
    "print(type(eig_pairs))\n",
    "\n",
    "#sort the (eigenvalue, eigenvector) tuples from high to low\n",
    "eig_pairs.sort()\n",
    "eig_pairs.reverse()\n",
    "print(\"\\n\", eig_pairs)\n",
    "\n",
    "#Visually confirm that list is correctly sorted by descending eigenvalues\n",
    "print('\\n \\nEigenvalues in descending order:')\n",
    "for i in eig_pairs:\n",
    "    print(i[0])"
   ]
  },
  {
   "cell_type": "markdown",
   "metadata": {},
   "source": [
    "#### 3.2 Explained Variance\n",
    "How many principal components are we choosing for our new feature subspace? "
   ]
  },
  {
   "cell_type": "code",
   "execution_count": 15,
   "metadata": {},
   "outputs": [
    {
     "name": "stdout",
     "output_type": "stream",
     "text": [
      "\n",
      " 2.022471910112359\n",
      "\n",
      "\n",
      "1. Variance Explained \n",
      " [56.4743557880805, 43.5256442119195]\n",
      "\n",
      "\n",
      "2. Cumulative Variance Explained \n",
      " [ 56.47435579 100.        ]\n",
      "\n",
      "\n",
      "3. Percentage of variance the first two princiapl components each contain\n",
      "  [56.4743557880805, 43.5256442119195]\n",
      "\n",
      "\n",
      "4. Percentage of variance the first two principal components together contain\n",
      " 100.0\n"
     ]
    }
   ],
   "source": [
    "tot = sum(eig_vals)\n",
    "print(\"\\n\", tot)\n",
    "var_exp= [(i/tot)*100 for i in sorted(eig_vals, reverse = True)]\n",
    "print(\"\\n\\n1. Variance Explained \\n\", var_exp)\n",
    "cum_var_exp = np.cumsum(var_exp)\n",
    "print(\"\\n\\n2. Cumulative Variance Explained \\n\", cum_var_exp)\n",
    "print(\"\\n\\n3. Percentage of variance the first two princiapl components each contain\\n \", var_exp[0:2])\n",
    "print(\"\\n\\n4. Percentage of variance the first two principal components together contain\\n\", sum(var_exp[0:2]))"
   ]
  },
  {
   "cell_type": "markdown",
   "metadata": {},
   "source": [
    "### 4. Construct the variance matrix W from the selected k eigenvectors "
   ]
  },
  {
   "cell_type": "code",
   "execution_count": 16,
   "metadata": {},
   "outputs": [
    {
     "name": "stdout",
     "output_type": "stream",
     "text": [
      "[ 0.70710678 -0.70710678]\n",
      "[0.70710678 0.70710678]\n",
      "Matrix W:\n",
      " [[ 0.70710678  0.70710678]\n",
      " [-0.70710678  0.70710678]]\n"
     ]
    }
   ],
   "source": [
    "print(eig_pairs[0][1])\n",
    "print(eig_pairs[1][1])\n",
    "matrix_w = np.hstack((eig_pairs[0][1].reshape(2,1), eig_pairs[1][1].reshape(2,1)))\n",
    "#hstack: Stacks arrays in sequence horizontally (columnwise).\n",
    "print ('Matrix W:\\n', matrix_w)"
   ]
  },
  {
   "cell_type": "markdown",
   "metadata": {},
   "source": [
    "## 5. Projection onto the new feature space \n",
    "3x2 dimensional projection matrix W to transform onto the new subspace "
   ]
  },
  {
   "cell_type": "code",
   "execution_count": 17,
   "metadata": {},
   "outputs": [
    {
     "data": {
      "text/html": [
       "<div>\n",
       "<style scoped>\n",
       "    .dataframe tbody tr th:only-of-type {\n",
       "        vertical-align: middle;\n",
       "    }\n",
       "\n",
       "    .dataframe tbody tr th {\n",
       "        vertical-align: top;\n",
       "    }\n",
       "\n",
       "    .dataframe thead th {\n",
       "        text-align: right;\n",
       "    }\n",
       "</style>\n",
       "<table border=\"1\" class=\"dataframe\">\n",
       "  <thead>\n",
       "    <tr style=\"text-align: right;\">\n",
       "      <th></th>\n",
       "      <th>Principal component 1</th>\n",
       "      <th>Principal component 2</th>\n",
       "    </tr>\n",
       "  </thead>\n",
       "  <tbody>\n",
       "    <tr>\n",
       "      <th>0</th>\n",
       "      <td>-0.674451</td>\n",
       "      <td>0.855110</td>\n",
       "    </tr>\n",
       "    <tr>\n",
       "      <th>1</th>\n",
       "      <td>0.366775</td>\n",
       "      <td>-0.186116</td>\n",
       "    </tr>\n",
       "    <tr>\n",
       "      <th>2</th>\n",
       "      <td>0.328272</td>\n",
       "      <td>0.087749</td>\n",
       "    </tr>\n",
       "    <tr>\n",
       "      <th>3</th>\n",
       "      <td>0.067966</td>\n",
       "      <td>0.348056</td>\n",
       "    </tr>\n",
       "    <tr>\n",
       "      <th>4</th>\n",
       "      <td>0.588579</td>\n",
       "      <td>-0.172557</td>\n",
       "    </tr>\n",
       "  </tbody>\n",
       "</table>\n",
       "</div>"
      ],
      "text/plain": [
       "   Principal component 1  Principal component 2\n",
       "0              -0.674451               0.855110\n",
       "1               0.366775              -0.186116\n",
       "2               0.328272               0.087749\n",
       "3               0.067966               0.348056\n",
       "4               0.588579              -0.172557"
      ]
     },
     "execution_count": 17,
     "metadata": {},
     "output_type": "execute_result"
    }
   ],
   "source": [
    "y= X_Std.dot(matrix_w)\n",
    "principalDf = pd.DataFrame(data=y, columns = ['Principal component 1', 'Principal component 2'])\n",
    "principalDf.head()"
   ]
  },
  {
   "cell_type": "code",
   "execution_count": 19,
   "metadata": {},
   "outputs": [
    {
     "data": {
      "text/html": [
       "<div>\n",
       "<style scoped>\n",
       "    .dataframe tbody tr th:only-of-type {\n",
       "        vertical-align: middle;\n",
       "    }\n",
       "\n",
       "    .dataframe tbody tr th {\n",
       "        vertical-align: top;\n",
       "    }\n",
       "\n",
       "    .dataframe thead th {\n",
       "        text-align: right;\n",
       "    }\n",
       "</style>\n",
       "<table border=\"1\" class=\"dataframe\">\n",
       "  <thead>\n",
       "    <tr style=\"text-align: right;\">\n",
       "      <th></th>\n",
       "      <th>Principal component 1</th>\n",
       "      <th>Principal component 2</th>\n",
       "      <th>Max crack tip stress</th>\n",
       "    </tr>\n",
       "  </thead>\n",
       "  <tbody>\n",
       "    <tr>\n",
       "      <th>0</th>\n",
       "      <td>-0.674451</td>\n",
       "      <td>0.855110</td>\n",
       "      <td>0-50</td>\n",
       "    </tr>\n",
       "    <tr>\n",
       "      <th>1</th>\n",
       "      <td>0.366775</td>\n",
       "      <td>-0.186116</td>\n",
       "      <td>0-50</td>\n",
       "    </tr>\n",
       "    <tr>\n",
       "      <th>2</th>\n",
       "      <td>0.328272</td>\n",
       "      <td>0.087749</td>\n",
       "      <td>0-50</td>\n",
       "    </tr>\n",
       "    <tr>\n",
       "      <th>3</th>\n",
       "      <td>0.067966</td>\n",
       "      <td>0.348056</td>\n",
       "      <td>0-50</td>\n",
       "    </tr>\n",
       "    <tr>\n",
       "      <th>4</th>\n",
       "      <td>0.588579</td>\n",
       "      <td>-0.172557</td>\n",
       "      <td>0-50</td>\n",
       "    </tr>\n",
       "  </tbody>\n",
       "</table>\n",
       "</div>"
      ],
      "text/plain": [
       "   Principal component 1  Principal component 2 Max crack tip stress\n",
       "0              -0.674451               0.855110                 0-50\n",
       "1               0.366775              -0.186116                 0-50\n",
       "2               0.328272               0.087749                 0-50\n",
       "3               0.067966               0.348056                 0-50\n",
       "4               0.588579              -0.172557                 0-50"
      ]
     },
     "execution_count": 19,
     "metadata": {},
     "output_type": "execute_result"
    }
   ],
   "source": [
    "#Y.shape\n",
    "finalDf = pd.concat([principalDf, pd.DataFrame(Y,columns = ['Max crack tip stress'])], axis =1)\n",
    "finalDf.head()"
   ]
  },
  {
   "cell_type": "markdown",
   "metadata": {},
   "source": [
    "### 6. Visualize 2D Projection\n",
    "a. Angle (y)\n",
    "b. Spacing (z)"
   ]
  },
  {
   "cell_type": "code",
   "execution_count": 23,
   "metadata": {},
   "outputs": [
    {
     "data": {
      "image/png": "[encoded data removed]",
      "text/plain": [
       "<Figure size 864x576 with 1 Axes>"
      ]
     },
     "metadata": {
      "needs_background": "light"
     },
     "output_type": "display_data"
    }
   ],
   "source": [
    "fig= plt.figure(figsize = (12,8))\n",
    "ax = fig.add_subplot(1,1,1)\n",
    "ax.set_xlabel('Principal Component 1', fontsize = 20)\n",
    "ax.set_ylabel('Principal Component 2', fontsize = 20)\n",
    "ax.set_title('PCA Analysis: Max crack tip stress', fontsize= 20)\n",
    "\n",
    "targets = ['0-50','50-100','100-150', '150-200', '>200']\n",
    "colors = ['r','g', 'b', 'c', 'y']\n",
    "\n",
    "for target, color in zip(targets, colors):\n",
    "    indicesToKeep = finalDf['Max crack tip stress'] == target\n",
    "    ax.scatter(finalDf.loc[indicesToKeep, 'Principal component 1'], finalDf.loc[indicesToKeep, 'Principal component 2'],c= color, s=50) \n",
    "ax.legend(targets,loc=1, prop={'size': 16}) \n",
    "ax.grid()\n",
    "#plt.plot(principalDf.iloc[:,0], principalDf.iloc[:,1], 'o');\n"
   ]
  },
  {
   "cell_type": "code",
   "execution_count": 24,
   "metadata": {},
   "outputs": [
    {
     "data": {
      "image/png": "[encoded data removed]",
      "text/plain": [
       "<Figure size 864x576 with 1 Axes>"
      ]
     },
     "metadata": {
      "needs_background": "light"
     },
     "output_type": "display_data"
    }
   ],
   "source": [
    "fig= plt.figure(figsize = (12,8))\n",
    "ax = fig.add_subplot(1,1,1)\n",
    "ax.set_xlabel('Principal Component 1', fontsize = 15)\n",
    "ax.set_ylabel('Principal Component 2', fontsize = 15)\n",
    "ax.set_title('PCA Analysis: FIber spacing vs Angle ', fontsize= 20)\n",
    "\n",
    "plt.plot(principalDf.iloc[:,0], principalDf.iloc[:,1], 'o');"
   ]
  },
  {
   "cell_type": "code",
   "execution_count": 31,
   "metadata": {},
   "outputs": [
    {
     "data": {
      "image/png": "[encoded data removed]",
      "text/plain": [
       "<Figure size 864x576 with 1 Axes>"
      ]
     },
     "metadata": {
      "needs_background": "light"
     },
     "output_type": "display_data"
    }
   ],
   "source": [
    "fig= plt.figure(figsize = (12,8))\n",
    "ax = fig.add_subplot(1,1,1)\n",
    "ax.set_xlabel('Angle', fontsize = 20)\n",
    "ax.set_ylabel('Fiber spacing', fontsize = 20)\n",
    "ax.set_title('Before PCA Analysis: Fiber spacing vs Angle ', fontsize= 20)\n",
    "\n",
    "plt.plot(df.iloc[:,0],df.iloc[:,1], 'o');"
   ]
  },
  {
   "cell_type": "code",
   "execution_count": 27,
   "metadata": {},
   "outputs": [
    {
     "ename": "NameError",
     "evalue": "name 'ff' is not defined",
     "output_type": "error",
     "traceback": [
      "\u001b[1;31m---------------------------------------------------------------------------\u001b[0m",
      "\u001b[1;31mNameError\u001b[0m                                 Traceback (most recent call last)",
      "\u001b[1;32m<ipython-input-27-2fb27ce7e928>\u001b[0m in \u001b[0;36m<module>\u001b[1;34m\u001b[0m\n\u001b[0;32m      5\u001b[0m \u001b[0max\u001b[0m\u001b[1;33m.\u001b[0m\u001b[0mset_title\u001b[0m\u001b[1;33m(\u001b[0m\u001b[1;34m'PCA Analysis: Max crack tip stress vs crack length '\u001b[0m\u001b[1;33m,\u001b[0m \u001b[0mfontsize\u001b[0m\u001b[1;33m=\u001b[0m \u001b[1;36m20\u001b[0m\u001b[1;33m)\u001b[0m\u001b[1;33m\u001b[0m\u001b[1;33m\u001b[0m\u001b[0m\n\u001b[0;32m      6\u001b[0m \u001b[1;33m\u001b[0m\u001b[0m\n\u001b[1;32m----> 7\u001b[1;33m \u001b[0mplt\u001b[0m\u001b[1;33m.\u001b[0m\u001b[0mplot\u001b[0m\u001b[1;33m(\u001b[0m\u001b[0mdf\u001b[0m\u001b[1;33m.\u001b[0m\u001b[0miloc\u001b[0m\u001b[1;33m[\u001b[0m\u001b[1;33m:\u001b[0m\u001b[1;33m,\u001b[0m\u001b[1;36m0\u001b[0m\u001b[1;33m]\u001b[0m\u001b[1;33m,\u001b[0m \u001b[0mff\u001b[0m\u001b[1;33m.\u001b[0m\u001b[0miloc\u001b[0m\u001b[1;33m[\u001b[0m\u001b[1;33m:\u001b[0m\u001b[1;33m,\u001b[0m\u001b[1;36m1\u001b[0m\u001b[1;33m]\u001b[0m\u001b[1;33m,\u001b[0m \u001b[1;34m'o'\u001b[0m\u001b[1;33m)\u001b[0m\u001b[1;33m;\u001b[0m\u001b[1;33m\u001b[0m\u001b[1;33m\u001b[0m\u001b[0m\n\u001b[0m",
      "\u001b[1;31mNameError\u001b[0m: name 'ff' is not defined"
     ]
    },
    {
     "data": {
      "image/png": "[encoded data removed]",
      "text/plain": [
       "<Figure size 864x576 with 1 Axes>"
      ]
     },
     "metadata": {
      "needs_background": "light"
     },
     "output_type": "display_data"
    }
   ],
   "source": [
    "fig= plt.figure(figsize = (12,8))\n",
    "ax = fig.add_subplot(1,1,1)\n",
    "ax.set_xlabel('Principal Component 1', fontsize = 15)\n",
    "ax.set_ylabel('Principal Component 2', fontsize = 15)\n",
    "ax.set_title('PCA Analysis: Max crack tip stress vs crack length ', fontsize= 20)\n",
    "\n",
    "plt.plot(df.iloc[:,0], ff.iloc[:,1], 'o');"
   ]
  },
  {
   "cell_type": "code",
   "execution_count": null,
   "metadata": {},
   "outputs": [],
   "source": []
  }
 ],
 "metadata": {
  "kernelspec": {
   "display_name": "Python 3",
   "language": "python",
   "name": "python3"
  },
  "language_info": {
   "codemirror_mode": {
    "name": "ipython",
    "version": 3
   },
   "file_extension": ".py",
   "mimetype": "text/x-python",
   "name": "python",
   "nbconvert_exporter": "python",
   "pygments_lexer": "ipython3",
   "version": "3.8.5"
  }
 },
 "nbformat": 4,
 "nbformat_minor": 4
}
